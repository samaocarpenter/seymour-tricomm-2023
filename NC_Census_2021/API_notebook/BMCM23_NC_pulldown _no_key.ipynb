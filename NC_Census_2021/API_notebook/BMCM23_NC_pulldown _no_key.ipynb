{
 "cells": [
  {
   "cell_type": "code",
   "execution_count": 1,
   "id": "8e5c7d98-5779-4003-86ad-953812298c8a",
   "metadata": {},
   "outputs": [],
   "source": [
    "# Import modules\n",
    "import matplotlib.pyplot as plt\n",
    "import pandas as pd\n",
    "import geopandas as gpd\n",
    "from census import Census\n",
    "from us import states\n",
    "import os"
   ]
  },
  {
   "cell_type": "code",
   "execution_count": 2,
   "id": "7c10ebb2-6049-4bf3-94d7-cb14d86df851",
   "metadata": {},
   "outputs": [],
   "source": [
    "# To run this code you need to first obtain a unique key to access the API.\n",
    "# For more information about this, and for a demo of the API see\n",
    "# https://pygis.io/docs/d_access_census.html\n",
    "c = Census(\"PUT KEY HERE\")"
   ]
  },
  {
   "cell_type": "code",
   "execution_count": 3,
   "id": "04f8c7f0-020a-4d5e-aa8c-43f631cec1af",
   "metadata": {},
   "outputs": [],
   "source": [
    "def nc_census_to_df(fields_list):\n",
    "    # Pull data from Census\n",
    "    nc_census = c.acs5.state_county_tract(fields = fields_list,\n",
    "                                  state_fips = states.NC.fips,\n",
    "                                  county_fips = \"*\",\n",
    "                                  tract = \"*\",\n",
    "                                  year = 2021)\n",
    "\n",
    "    # Convert to Dataframe\n",
    "    nc_df = pd.DataFrame(nc_census)\n",
    "    #print(nc_df.head(2))\n",
    "\n",
    "    if \"GEO_ID\" in nc_df.columns.tolist():\n",
    "        nc_df = nc_df.drop(columns = ['GEO_ID'])\n",
    "    #print(nc_df.head(2))\n",
    "    \n",
    "    # Find tract GEOID\n",
    "    nc_df[\"GEOID\"] = nc_df[\"state\"] + nc_df[\"county\"] + nc_df[\"tract\"]\n",
    "    #print(nc_df.head(2))\n",
    "    \n",
    "    # Drop redundant data\n",
    "    nc_df = nc_df.drop(columns = [\"state\", \"county\", \"tract\"])\n",
    "    #print(nc_df.head(2))\n",
    "\n",
    "    # Set GEOID to the index\n",
    "    nc_df = nc_df.set_index(\"GEOID\")\n",
    "\n",
    "    return nc_df"
   ]
  },
  {
   "cell_type": "code",
   "execution_count": 4,
   "id": "13a8bf23-efd1-485a-836c-97a3b3d1787c",
   "metadata": {},
   "outputs": [
    {
     "ename": "APIKeyError",
     "evalue": "' <html>     <head>         <title>Invalid Key</title>     </head>     <body>         <p>             A valid <em>key</em> must be included with each data API request.             You included a key with this request, however, it is not valid.             Please check your key and try again.         </p>         <p>             If you do not have a key you may sign up for one <a href=\"key_signup.html\">here</a>.         </p>     </body> </html>'",
     "output_type": "error",
     "traceback": [
      "\u001b[0;31m---------------------------------------------------------------------------\u001b[0m",
      "\u001b[0;31mJSONDecodeError\u001b[0m                           Traceback (most recent call last)",
      "File \u001b[0;32m~/.local/lib/python3.10/site-packages/census/core.py:190\u001b[0m, in \u001b[0;36mClient.query\u001b[0;34m(self, fields, geo, year, sort_by_geoid, **kwargs)\u001b[0m\n\u001b[1;32m    189\u001b[0m \u001b[38;5;28;01mtry\u001b[39;00m:\n\u001b[0;32m--> 190\u001b[0m     data \u001b[38;5;241m=\u001b[39m \u001b[43mresp\u001b[49m\u001b[38;5;241;43m.\u001b[39;49m\u001b[43mjson\u001b[49m\u001b[43m(\u001b[49m\u001b[43m)\u001b[49m\n\u001b[1;32m    191\u001b[0m \u001b[38;5;28;01mexcept\u001b[39;00m \u001b[38;5;167;01mValueError\u001b[39;00m \u001b[38;5;28;01mas\u001b[39;00m ex:\n",
      "File \u001b[0;32m/usr/lib/python3/dist-packages/requests/models.py:900\u001b[0m, in \u001b[0;36mResponse.json\u001b[0;34m(self, **kwargs)\u001b[0m\n\u001b[1;32m    899\u001b[0m             \u001b[38;5;28;01mpass\u001b[39;00m\n\u001b[0;32m--> 900\u001b[0m \u001b[38;5;28;01mreturn\u001b[39;00m \u001b[43mcomplexjson\u001b[49m\u001b[38;5;241;43m.\u001b[39;49m\u001b[43mloads\u001b[49m\u001b[43m(\u001b[49m\u001b[38;5;28;43mself\u001b[39;49m\u001b[38;5;241;43m.\u001b[39;49m\u001b[43mtext\u001b[49m\u001b[43m,\u001b[49m\u001b[43m \u001b[49m\u001b[38;5;241;43m*\u001b[39;49m\u001b[38;5;241;43m*\u001b[39;49m\u001b[43mkwargs\u001b[49m\u001b[43m)\u001b[49m\n",
      "File \u001b[0;32m/usr/lib/python3.10/json/__init__.py:346\u001b[0m, in \u001b[0;36mloads\u001b[0;34m(s, cls, object_hook, parse_float, parse_int, parse_constant, object_pairs_hook, **kw)\u001b[0m\n\u001b[1;32m    343\u001b[0m \u001b[38;5;28;01mif\u001b[39;00m (\u001b[38;5;28mcls\u001b[39m \u001b[38;5;129;01mis\u001b[39;00m \u001b[38;5;28;01mNone\u001b[39;00m \u001b[38;5;129;01mand\u001b[39;00m object_hook \u001b[38;5;129;01mis\u001b[39;00m \u001b[38;5;28;01mNone\u001b[39;00m \u001b[38;5;129;01mand\u001b[39;00m\n\u001b[1;32m    344\u001b[0m         parse_int \u001b[38;5;129;01mis\u001b[39;00m \u001b[38;5;28;01mNone\u001b[39;00m \u001b[38;5;129;01mand\u001b[39;00m parse_float \u001b[38;5;129;01mis\u001b[39;00m \u001b[38;5;28;01mNone\u001b[39;00m \u001b[38;5;129;01mand\u001b[39;00m\n\u001b[1;32m    345\u001b[0m         parse_constant \u001b[38;5;129;01mis\u001b[39;00m \u001b[38;5;28;01mNone\u001b[39;00m \u001b[38;5;129;01mand\u001b[39;00m object_pairs_hook \u001b[38;5;129;01mis\u001b[39;00m \u001b[38;5;28;01mNone\u001b[39;00m \u001b[38;5;129;01mand\u001b[39;00m \u001b[38;5;129;01mnot\u001b[39;00m kw):\n\u001b[0;32m--> 346\u001b[0m     \u001b[38;5;28;01mreturn\u001b[39;00m \u001b[43m_default_decoder\u001b[49m\u001b[38;5;241;43m.\u001b[39;49m\u001b[43mdecode\u001b[49m\u001b[43m(\u001b[49m\u001b[43ms\u001b[49m\u001b[43m)\u001b[49m\n\u001b[1;32m    347\u001b[0m \u001b[38;5;28;01mif\u001b[39;00m \u001b[38;5;28mcls\u001b[39m \u001b[38;5;129;01mis\u001b[39;00m \u001b[38;5;28;01mNone\u001b[39;00m:\n",
      "File \u001b[0;32m/usr/lib/python3.10/json/decoder.py:337\u001b[0m, in \u001b[0;36mJSONDecoder.decode\u001b[0;34m(self, s, _w)\u001b[0m\n\u001b[1;32m    333\u001b[0m \u001b[38;5;250m\u001b[39m\u001b[38;5;124;03m\"\"\"Return the Python representation of ``s`` (a ``str`` instance\u001b[39;00m\n\u001b[1;32m    334\u001b[0m \u001b[38;5;124;03mcontaining a JSON document).\u001b[39;00m\n\u001b[1;32m    335\u001b[0m \n\u001b[1;32m    336\u001b[0m \u001b[38;5;124;03m\"\"\"\u001b[39;00m\n\u001b[0;32m--> 337\u001b[0m obj, end \u001b[38;5;241m=\u001b[39m \u001b[38;5;28;43mself\u001b[39;49m\u001b[38;5;241;43m.\u001b[39;49m\u001b[43mraw_decode\u001b[49m\u001b[43m(\u001b[49m\u001b[43ms\u001b[49m\u001b[43m,\u001b[49m\u001b[43m \u001b[49m\u001b[43midx\u001b[49m\u001b[38;5;241;43m=\u001b[39;49m\u001b[43m_w\u001b[49m\u001b[43m(\u001b[49m\u001b[43ms\u001b[49m\u001b[43m,\u001b[49m\u001b[43m \u001b[49m\u001b[38;5;241;43m0\u001b[39;49m\u001b[43m)\u001b[49m\u001b[38;5;241;43m.\u001b[39;49m\u001b[43mend\u001b[49m\u001b[43m(\u001b[49m\u001b[43m)\u001b[49m\u001b[43m)\u001b[49m\n\u001b[1;32m    338\u001b[0m end \u001b[38;5;241m=\u001b[39m _w(s, end)\u001b[38;5;241m.\u001b[39mend()\n",
      "File \u001b[0;32m/usr/lib/python3.10/json/decoder.py:355\u001b[0m, in \u001b[0;36mJSONDecoder.raw_decode\u001b[0;34m(self, s, idx)\u001b[0m\n\u001b[1;32m    354\u001b[0m \u001b[38;5;28;01mexcept\u001b[39;00m \u001b[38;5;167;01mStopIteration\u001b[39;00m \u001b[38;5;28;01mas\u001b[39;00m err:\n\u001b[0;32m--> 355\u001b[0m     \u001b[38;5;28;01mraise\u001b[39;00m JSONDecodeError(\u001b[38;5;124m\"\u001b[39m\u001b[38;5;124mExpecting value\u001b[39m\u001b[38;5;124m\"\u001b[39m, s, err\u001b[38;5;241m.\u001b[39mvalue) \u001b[38;5;28;01mfrom\u001b[39;00m \u001b[38;5;28mNone\u001b[39m\n\u001b[1;32m    356\u001b[0m \u001b[38;5;28;01mreturn\u001b[39;00m obj, end\n",
      "\u001b[0;31mJSONDecodeError\u001b[0m: Expecting value: line 2 column 1 (char 1)",
      "\nDuring handling of the above exception, another exception occurred:\n",
      "\u001b[0;31mAPIKeyError\u001b[0m                               Traceback (most recent call last)",
      "Cell \u001b[0;32mIn[4], line 2\u001b[0m\n\u001b[1;32m      1\u001b[0m \u001b[38;5;66;03m# Example Census API call\u001b[39;00m\n\u001b[0;32m----> 2\u001b[0m nc_census \u001b[38;5;241m=\u001b[39m \u001b[43mc\u001b[49m\u001b[38;5;241;43m.\u001b[39;49m\u001b[43macs5\u001b[49m\u001b[38;5;241;43m.\u001b[39;49m\u001b[43mstate_county_tract\u001b[49m\u001b[43m(\u001b[49m\u001b[43mfields\u001b[49m\u001b[43m \u001b[49m\u001b[38;5;241;43m=\u001b[39;49m\u001b[43m \u001b[49m\u001b[43m(\u001b[49m\u001b[38;5;124;43m'\u001b[39;49m\u001b[38;5;124;43mC17002_001E\u001b[39;49m\u001b[38;5;124;43m'\u001b[39;49m\u001b[43m,\u001b[49m\u001b[43m \u001b[49m\u001b[38;5;124;43m'\u001b[39;49m\u001b[38;5;124;43mC17002_002E\u001b[39;49m\u001b[38;5;124;43m'\u001b[39;49m\u001b[43m,\u001b[49m\u001b[43m \u001b[49m\u001b[38;5;124;43m'\u001b[39;49m\u001b[38;5;124;43mC17002_003E\u001b[39;49m\u001b[38;5;124;43m'\u001b[39;49m\u001b[43m,\u001b[49m\u001b[43m \u001b[49m\u001b[38;5;124;43m'\u001b[39;49m\u001b[38;5;124;43mB01003_001E\u001b[39;49m\u001b[38;5;124;43m'\u001b[39;49m\u001b[43m)\u001b[49m\u001b[43m,\u001b[49m\n\u001b[1;32m      3\u001b[0m \u001b[43m                                      \u001b[49m\u001b[43mstate_fips\u001b[49m\u001b[43m \u001b[49m\u001b[38;5;241;43m=\u001b[39;49m\u001b[43m \u001b[49m\u001b[43mstates\u001b[49m\u001b[38;5;241;43m.\u001b[39;49m\u001b[43mNC\u001b[49m\u001b[38;5;241;43m.\u001b[39;49m\u001b[43mfips\u001b[49m\u001b[43m,\u001b[49m\n\u001b[1;32m      4\u001b[0m \u001b[43m                                      \u001b[49m\u001b[43mcounty_fips\u001b[49m\u001b[43m \u001b[49m\u001b[38;5;241;43m=\u001b[39;49m\u001b[43m \u001b[49m\u001b[38;5;124;43m\"\u001b[39;49m\u001b[38;5;124;43m*\u001b[39;49m\u001b[38;5;124;43m\"\u001b[39;49m\u001b[43m,\u001b[49m\n\u001b[1;32m      5\u001b[0m \u001b[43m                                      \u001b[49m\u001b[43mtract\u001b[49m\u001b[43m \u001b[49m\u001b[38;5;241;43m=\u001b[39;49m\u001b[43m \u001b[49m\u001b[38;5;124;43m\"\u001b[39;49m\u001b[38;5;124;43m*\u001b[39;49m\u001b[38;5;124;43m\"\u001b[39;49m\u001b[43m,\u001b[49m\n\u001b[1;32m      6\u001b[0m \u001b[43m                                      \u001b[49m\u001b[43myear\u001b[49m\u001b[43m \u001b[49m\u001b[38;5;241;43m=\u001b[39;49m\u001b[43m \u001b[49m\u001b[38;5;241;43m2021\u001b[39;49m\u001b[43m)\u001b[49m\n\u001b[1;32m      7\u001b[0m \u001b[38;5;66;03m# Convert to dataframe for processing\u001b[39;00m\n\u001b[1;32m      8\u001b[0m nc_df \u001b[38;5;241m=\u001b[39m pd\u001b[38;5;241m.\u001b[39mDataFrame(nc_census)\n",
      "File \u001b[0;32m~/.local/lib/python3.10/site-packages/census/core.py:50\u001b[0m, in \u001b[0;36msupported_years.<locals>.inner.<locals>.wrapper\u001b[0;34m(self, *args, **kwargs)\u001b[0m\n\u001b[1;32m     47\u001b[0m \u001b[38;5;28;01mif\u001b[39;00m \u001b[38;5;28mint\u001b[39m(year) \u001b[38;5;129;01mnot\u001b[39;00m \u001b[38;5;129;01min\u001b[39;00m _years:\n\u001b[1;32m     48\u001b[0m     \u001b[38;5;28;01mraise\u001b[39;00m UnsupportedYearException(\n\u001b[1;32m     49\u001b[0m         \u001b[38;5;124m'\u001b[39m\u001b[38;5;124mGeography is not available in \u001b[39m\u001b[38;5;132;01m{}\u001b[39;00m\u001b[38;5;124m. Available years include \u001b[39m\u001b[38;5;132;01m{}\u001b[39;00m\u001b[38;5;124m'\u001b[39m\u001b[38;5;241m.\u001b[39mformat(year, _years))\n\u001b[0;32m---> 50\u001b[0m \u001b[38;5;28;01mreturn\u001b[39;00m \u001b[43mfunc\u001b[49m\u001b[43m(\u001b[49m\u001b[38;5;28;43mself\u001b[39;49m\u001b[43m,\u001b[49m\u001b[43m \u001b[49m\u001b[38;5;241;43m*\u001b[39;49m\u001b[43margs\u001b[49m\u001b[43m,\u001b[49m\u001b[43m \u001b[49m\u001b[38;5;241;43m*\u001b[39;49m\u001b[38;5;241;43m*\u001b[39;49m\u001b[43mkwargs\u001b[49m\u001b[43m)\u001b[49m\n",
      "File \u001b[0;32m~/.local/lib/python3.10/site-packages/census/core.py:334\u001b[0m, in \u001b[0;36mACS5Client.state_county_tract\u001b[0;34m(self, fields, state_fips, county_fips, tract, **kwargs)\u001b[0m\n\u001b[1;32m    331\u001b[0m \u001b[38;5;129m@supported_years\u001b[39m()\n\u001b[1;32m    332\u001b[0m \u001b[38;5;28;01mdef\u001b[39;00m \u001b[38;5;21mstate_county_tract\u001b[39m(\u001b[38;5;28mself\u001b[39m, fields, state_fips,\n\u001b[1;32m    333\u001b[0m                        county_fips, tract, \u001b[38;5;241m*\u001b[39m\u001b[38;5;241m*\u001b[39mkwargs):\n\u001b[0;32m--> 334\u001b[0m     \u001b[38;5;28;01mreturn\u001b[39;00m \u001b[38;5;28;43mself\u001b[39;49m\u001b[38;5;241;43m.\u001b[39;49m\u001b[43mget\u001b[49m\u001b[43m(\u001b[49m\u001b[43mfields\u001b[49m\u001b[43m,\u001b[49m\u001b[43m \u001b[49m\u001b[43mgeo\u001b[49m\u001b[38;5;241;43m=\u001b[39;49m\u001b[43m{\u001b[49m\n\u001b[1;32m    335\u001b[0m \u001b[43m        \u001b[49m\u001b[38;5;124;43m'\u001b[39;49m\u001b[38;5;124;43mfor\u001b[39;49m\u001b[38;5;124;43m'\u001b[39;49m\u001b[43m:\u001b[49m\u001b[43m \u001b[49m\u001b[38;5;124;43m'\u001b[39;49m\u001b[38;5;124;43mtract:\u001b[39;49m\u001b[38;5;132;43;01m{}\u001b[39;49;00m\u001b[38;5;124;43m'\u001b[39;49m\u001b[38;5;241;43m.\u001b[39;49m\u001b[43mformat\u001b[49m\u001b[43m(\u001b[49m\u001b[43mtract\u001b[49m\u001b[43m)\u001b[49m\u001b[43m,\u001b[49m\n\u001b[1;32m    336\u001b[0m \u001b[43m        \u001b[49m\u001b[38;5;124;43m'\u001b[39;49m\u001b[38;5;124;43min\u001b[39;49m\u001b[38;5;124;43m'\u001b[39;49m\u001b[43m:\u001b[49m\u001b[43m \u001b[49m\u001b[38;5;124;43m'\u001b[39;49m\u001b[38;5;124;43mstate:\u001b[39;49m\u001b[38;5;132;43;01m{}\u001b[39;49;00m\u001b[38;5;124;43m county:\u001b[39;49m\u001b[38;5;132;43;01m{}\u001b[39;49;00m\u001b[38;5;124;43m'\u001b[39;49m\u001b[38;5;241;43m.\u001b[39;49m\u001b[43mformat\u001b[49m\u001b[43m(\u001b[49m\u001b[43mstate_fips\u001b[49m\u001b[43m,\u001b[49m\u001b[43m \u001b[49m\u001b[43mcounty_fips\u001b[49m\u001b[43m)\u001b[49m\u001b[43m,\u001b[49m\n\u001b[1;32m    337\u001b[0m \u001b[43m    \u001b[49m\u001b[43m}\u001b[49m\u001b[43m,\u001b[49m\u001b[43m \u001b[49m\u001b[38;5;241;43m*\u001b[39;49m\u001b[38;5;241;43m*\u001b[39;49m\u001b[43mkwargs\u001b[49m\u001b[43m)\u001b[49m\n",
      "File \u001b[0;32m~/.local/lib/python3.10/site-packages/census/core.py:313\u001b[0m, in \u001b[0;36mACSClient.get\u001b[0;34m(self, *args, **kwargs)\u001b[0m\n\u001b[1;32m    310\u001b[0m \u001b[38;5;28;01mdef\u001b[39;00m \u001b[38;5;21mget\u001b[39m(\u001b[38;5;28mself\u001b[39m, \u001b[38;5;241m*\u001b[39margs, \u001b[38;5;241m*\u001b[39m\u001b[38;5;241m*\u001b[39mkwargs):\n\u001b[1;32m    311\u001b[0m     \u001b[38;5;28mself\u001b[39m\u001b[38;5;241m.\u001b[39m_switch_endpoints(kwargs\u001b[38;5;241m.\u001b[39mget(\u001b[38;5;124m'\u001b[39m\u001b[38;5;124myear\u001b[39m\u001b[38;5;124m'\u001b[39m, \u001b[38;5;28mself\u001b[39m\u001b[38;5;241m.\u001b[39mdefault_year))\n\u001b[0;32m--> 313\u001b[0m     \u001b[38;5;28;01mreturn\u001b[39;00m \u001b[38;5;28;43msuper\u001b[39;49m\u001b[43m(\u001b[49m\u001b[43mACSClient\u001b[49m\u001b[43m,\u001b[49m\u001b[43m \u001b[49m\u001b[38;5;28;43mself\u001b[39;49m\u001b[43m)\u001b[49m\u001b[38;5;241;43m.\u001b[39;49m\u001b[43mget\u001b[49m\u001b[43m(\u001b[49m\u001b[38;5;241;43m*\u001b[39;49m\u001b[43margs\u001b[49m\u001b[43m,\u001b[49m\u001b[43m \u001b[49m\u001b[38;5;241;43m*\u001b[39;49m\u001b[38;5;241;43m*\u001b[39;49m\u001b[43mkwargs\u001b[49m\u001b[43m)\u001b[49m\n",
      "File \u001b[0;32m~/.local/lib/python3.10/site-packages/census/core.py:159\u001b[0m, in \u001b[0;36mClient.get\u001b[0;34m(self, fields, geo, year, **kwargs)\u001b[0m\n\u001b[1;32m    156\u001b[0m sort_by_geoid \u001b[38;5;241m=\u001b[39m \u001b[38;5;28mlen\u001b[39m(fields) \u001b[38;5;241m>\u001b[39m \u001b[38;5;241m49\u001b[39m \u001b[38;5;129;01mand\u001b[39;00m (\u001b[38;5;129;01mnot\u001b[39;00m year \u001b[38;5;129;01mor\u001b[39;00m year \u001b[38;5;241m>\u001b[39m \u001b[38;5;241m2009\u001b[39m)\n\u001b[1;32m    157\u001b[0m all_results \u001b[38;5;241m=\u001b[39m (\u001b[38;5;28mself\u001b[39m\u001b[38;5;241m.\u001b[39mquery(forty_nine_fields, geo, year, sort_by_geoid\u001b[38;5;241m=\u001b[39msort_by_geoid, \u001b[38;5;241m*\u001b[39m\u001b[38;5;241m*\u001b[39mkwargs)\n\u001b[1;32m    158\u001b[0m                \u001b[38;5;28;01mfor\u001b[39;00m forty_nine_fields \u001b[38;5;129;01min\u001b[39;00m chunks(fields, \u001b[38;5;241m49\u001b[39m))\n\u001b[0;32m--> 159\u001b[0m merged_results \u001b[38;5;241m=\u001b[39m [merge(result) \u001b[38;5;28;01mfor\u001b[39;00m result \u001b[38;5;129;01min\u001b[39;00m \u001b[38;5;28;43mzip\u001b[39;49m\u001b[43m(\u001b[49m\u001b[38;5;241;43m*\u001b[39;49m\u001b[43mall_results\u001b[49m\u001b[43m)\u001b[49m]\n\u001b[1;32m    161\u001b[0m \u001b[38;5;28;01mreturn\u001b[39;00m merged_results\n",
      "File \u001b[0;32m~/.local/lib/python3.10/site-packages/census/core.py:157\u001b[0m, in \u001b[0;36m<genexpr>\u001b[0;34m(.0)\u001b[0m\n\u001b[1;32m    150\u001b[0m \u001b[38;5;250m\u001b[39m\u001b[38;5;124;03m\"\"\"\u001b[39;00m\n\u001b[1;32m    151\u001b[0m \u001b[38;5;124;03mThe API only accepts up to 50 fields on each query.\u001b[39;00m\n\u001b[1;32m    152\u001b[0m \u001b[38;5;124;03mChunk requests, and use the unique GEO_ID to match up the chunks\u001b[39;00m\n\u001b[1;32m    153\u001b[0m \u001b[38;5;124;03min case the responses are in different orders.\u001b[39;00m\n\u001b[1;32m    154\u001b[0m \u001b[38;5;124;03mGEO_ID is not reliably present in pre-2010 requests.\u001b[39;00m\n\u001b[1;32m    155\u001b[0m \u001b[38;5;124;03m\"\"\"\u001b[39;00m\n\u001b[1;32m    156\u001b[0m sort_by_geoid \u001b[38;5;241m=\u001b[39m \u001b[38;5;28mlen\u001b[39m(fields) \u001b[38;5;241m>\u001b[39m \u001b[38;5;241m49\u001b[39m \u001b[38;5;129;01mand\u001b[39;00m (\u001b[38;5;129;01mnot\u001b[39;00m year \u001b[38;5;129;01mor\u001b[39;00m year \u001b[38;5;241m>\u001b[39m \u001b[38;5;241m2009\u001b[39m)\n\u001b[0;32m--> 157\u001b[0m all_results \u001b[38;5;241m=\u001b[39m (\u001b[38;5;28;43mself\u001b[39;49m\u001b[38;5;241;43m.\u001b[39;49m\u001b[43mquery\u001b[49m\u001b[43m(\u001b[49m\u001b[43mforty_nine_fields\u001b[49m\u001b[43m,\u001b[49m\u001b[43m \u001b[49m\u001b[43mgeo\u001b[49m\u001b[43m,\u001b[49m\u001b[43m \u001b[49m\u001b[43myear\u001b[49m\u001b[43m,\u001b[49m\u001b[43m \u001b[49m\u001b[43msort_by_geoid\u001b[49m\u001b[38;5;241;43m=\u001b[39;49m\u001b[43msort_by_geoid\u001b[49m\u001b[43m,\u001b[49m\u001b[43m \u001b[49m\u001b[38;5;241;43m*\u001b[39;49m\u001b[38;5;241;43m*\u001b[39;49m\u001b[43mkwargs\u001b[49m\u001b[43m)\u001b[49m\n\u001b[1;32m    158\u001b[0m                \u001b[38;5;28;01mfor\u001b[39;00m forty_nine_fields \u001b[38;5;129;01min\u001b[39;00m chunks(fields, \u001b[38;5;241m49\u001b[39m))\n\u001b[1;32m    159\u001b[0m merged_results \u001b[38;5;241m=\u001b[39m [merge(result) \u001b[38;5;28;01mfor\u001b[39;00m result \u001b[38;5;129;01min\u001b[39;00m \u001b[38;5;28mzip\u001b[39m(\u001b[38;5;241m*\u001b[39mall_results)]\n\u001b[1;32m    161\u001b[0m \u001b[38;5;28;01mreturn\u001b[39;00m merged_results\n",
      "File \u001b[0;32m~/.local/lib/python3.10/site-packages/census/core.py:60\u001b[0m, in \u001b[0;36mretry_on_transient_error.<locals>.wrapper\u001b[0;34m(self, *args, **kwargs)\u001b[0m\n\u001b[1;32m     58\u001b[0m \u001b[38;5;28;01mfor\u001b[39;00m _ \u001b[38;5;129;01min\u001b[39;00m \u001b[38;5;28mrange\u001b[39m(\u001b[38;5;28mmax\u001b[39m(\u001b[38;5;28mself\u001b[39m\u001b[38;5;241m.\u001b[39mretries \u001b[38;5;241m-\u001b[39m \u001b[38;5;241m1\u001b[39m, \u001b[38;5;241m0\u001b[39m)):\n\u001b[1;32m     59\u001b[0m     \u001b[38;5;28;01mtry\u001b[39;00m:\n\u001b[0;32m---> 60\u001b[0m         result \u001b[38;5;241m=\u001b[39m \u001b[43mfunc\u001b[49m\u001b[43m(\u001b[49m\u001b[38;5;28;43mself\u001b[39;49m\u001b[43m,\u001b[49m\u001b[43m \u001b[49m\u001b[38;5;241;43m*\u001b[39;49m\u001b[43margs\u001b[49m\u001b[43m,\u001b[49m\u001b[43m \u001b[49m\u001b[38;5;241;43m*\u001b[39;49m\u001b[38;5;241;43m*\u001b[39;49m\u001b[43mkwargs\u001b[49m\u001b[43m)\u001b[49m\n\u001b[1;32m     61\u001b[0m     \u001b[38;5;28;01mexcept\u001b[39;00m CensusException \u001b[38;5;28;01mas\u001b[39;00m e:\n\u001b[1;32m     62\u001b[0m         \u001b[38;5;28;01mif\u001b[39;00m \u001b[38;5;124m\"\u001b[39m\u001b[38;5;124mThere was an error while running your query.  We\u001b[39m\u001b[38;5;124m'\u001b[39m\u001b[38;5;124mve logged the error and we\u001b[39m\u001b[38;5;124m'\u001b[39m\u001b[38;5;124mll correct it ASAP.  Sorry for the inconvenience.\u001b[39m\u001b[38;5;124m\"\u001b[39m \u001b[38;5;129;01min\u001b[39;00m \u001b[38;5;28mstr\u001b[39m(e):\n",
      "File \u001b[0;32m~/.local/lib/python3.10/site-packages/census/core.py:193\u001b[0m, in \u001b[0;36mClient.query\u001b[0;34m(self, fields, geo, year, sort_by_geoid, **kwargs)\u001b[0m\n\u001b[1;32m    191\u001b[0m \u001b[38;5;28;01mexcept\u001b[39;00m \u001b[38;5;167;01mValueError\u001b[39;00m \u001b[38;5;28;01mas\u001b[39;00m ex:\n\u001b[1;32m    192\u001b[0m     \u001b[38;5;28;01mif\u001b[39;00m \u001b[38;5;124m'\u001b[39m\u001b[38;5;124m<title>Invalid Key</title>\u001b[39m\u001b[38;5;124m'\u001b[39m \u001b[38;5;129;01min\u001b[39;00m resp\u001b[38;5;241m.\u001b[39mtext:\n\u001b[0;32m--> 193\u001b[0m         \u001b[38;5;28;01mraise\u001b[39;00m APIKeyError(\u001b[38;5;124m'\u001b[39m\u001b[38;5;124m \u001b[39m\u001b[38;5;124m'\u001b[39m\u001b[38;5;241m.\u001b[39mjoin(resp\u001b[38;5;241m.\u001b[39mtext\u001b[38;5;241m.\u001b[39msplitlines()))\n\u001b[1;32m    194\u001b[0m     \u001b[38;5;28;01melse\u001b[39;00m:\n\u001b[1;32m    195\u001b[0m         \u001b[38;5;28;01mraise\u001b[39;00m ex\n",
      "\u001b[0;31mAPIKeyError\u001b[0m: ' <html>     <head>         <title>Invalid Key</title>     </head>     <body>         <p>             A valid <em>key</em> must be included with each data API request.             You included a key with this request, however, it is not valid.             Please check your key and try again.         </p>         <p>             If you do not have a key you may sign up for one <a href=\"key_signup.html\">here</a>.         </p>     </body> </html>'"
     ]
    }
   ],
   "source": [
    "# Example Census API call\n",
    "nc_census = c.acs5.state_county_tract(fields = ('C17002_001E', 'C17002_002E', 'C17002_003E', 'B01003_001E'),\n",
    "                                      state_fips = states.NC.fips,\n",
    "                                      county_fips = \"*\",\n",
    "                                      tract = \"*\",\n",
    "                                      year = 2021)\n",
    "# Convert to dataframe for processing\n",
    "nc_df = pd.DataFrame(nc_census)\n",
    "\n",
    "# Display top two rows of the table\n",
    "nc_df.head(2)"
   ]
  },
  {
   "cell_type": "code",
   "execution_count": null,
   "id": "4531f7d0-214e-467c-901d-becdf129368f",
   "metadata": {},
   "outputs": [],
   "source": [
    "# Sex by Age\n",
    "field_list = ('B01001_001E', 'B01001_002E', 'B01001_003E', 'B01001_004E', 'B01001_005E', 'B01001_006E', 'B01001_007E', 'B01001_008E', \n",
    "'B01001_009E', 'B01001_010E', 'B01001_011E', 'B01001_012E', 'B01001_013E', 'B01001_014E', 'B01001_015E', 'B01001_016E', \n",
    "'B01001_017E', 'B01001_018E', 'B01001_019E', 'B01001_020E', 'B01001_021E', 'B01001_022E', 'B01001_023E', 'B01001_024E', \n",
    "'B01001_025E', 'B01001_026E', 'B01001_027E', 'B01001_028E', 'B01001_029E', 'B01001_030E', 'B01001_031E', 'B01001_032E', \n",
    "'B01001_033E', 'B01001_034E', 'B01001_035E', 'B01001_036E', 'B01001_037E', 'B01001_038E', 'B01001_039E', 'B01001_040E', \n",
    "'B01001_041E', 'B01001_042E', 'B01001_043E', 'B01001_044E', 'B01001_045E', 'B01001_046E', 'B01001_047E', 'B01001_048E', \n",
    "'B01001_049E' )\n",
    "nc_sex_by_age = nc_census_to_df(field_list)\n",
    "nc_sex_by_age.to_csv('./NC_Census_2021/table01.csv')\n",
    "nc_sex_by_age.head(2)"
   ]
  },
  {
   "cell_type": "code",
   "execution_count": null,
   "id": "2b75be91-ec82-4dbc-b937-c30ed4f171ec",
   "metadata": {},
   "outputs": [],
   "source": [
    "# Sex by Age\n",
    "field_list = ('B18101_001E', 'B18101_002E', 'B18101_003E', 'B18101_004E', 'B18101_005E', 'B18101_006E', 'B18101_007E', 'B18101_008E', \n",
    "'B18101_009E', 'B18101_010E', 'B18101_011E', 'B18101_012E', 'B18101_013E', 'B18101_014E', 'B18101_015E', 'B18101_016E', \n",
    "'B18101_017E', 'B18101_018E', 'B18101_019E', 'B18101_020E', 'B18101_021E', 'B18101_022E', 'B18101_023E', 'B18101_024E', \n",
    "'B18101_025E', 'B18101_026E', 'B18101_027E', 'B18101_028E', 'B18101_029E', 'B18101_030E', 'B18101_031E', 'B18101_032E', \n",
    "'B18101_033E', 'B18101_034E', 'B18101_035E', 'B18101_036E', 'B18101_037E', 'B18101_038E', 'B18101_039E')\n",
    "nc_sex_by_age_by_ds = nc_census_to_df(field_list)\n",
    "nc_sex_by_age_by_ds.to_csv('./NC_Census_2021/table02.csv')"
   ]
  },
  {
   "cell_type": "code",
   "execution_count": null,
   "id": "04fdbf02-7083-444e-a1e6-943e9e99d645",
   "metadata": {},
   "outputs": [],
   "source": [
    "field_list = ('B18135_001E', 'B18135_002E', 'B18135_003E', 'B18135_004E', 'B18135_005E', 'B18135_006E', 'B18135_007E', 'B18135_008E', \n",
    "'B18135_009E', 'B18135_010E', 'B18135_011E', 'B18135_012E', 'B18135_013E', 'B18135_014E', 'B18135_015E', 'B18135_016E', \n",
    "'B18135_017E', 'B18135_018E', 'B18135_019E', 'B18135_020E', 'B18135_021E', 'B18135_022E', 'B18135_023E', 'B18135_024E', \n",
    "'B18135_025E', 'B18135_026E', 'B18135_027E', 'B18135_028E', 'B18135_029E', 'B18135_030E', 'B18135_031E', 'B18135_032E', \n",
    "'B18135_033E', 'B18135_034E')\n",
    "nc_age_by_ds_hic = nc_census_to_df(field_list)\n",
    "nc_age_by_ds_hic.to_csv('./NC_Census_2021/table03.csv')"
   ]
  },
  {
   "cell_type": "code",
   "execution_count": null,
   "id": "810a1744-9313-44f5-842e-d739a4679a15",
   "metadata": {},
   "outputs": [],
   "source": [
    "field_list1 = ('B27001_001E', 'B27001_002E', 'B27001_003E', 'B27001_004E', 'B27001_005E', 'B27001_006E', 'B27001_007E', 'B27001_008E', \n",
    "'B27001_009E', 'B27001_010E', 'B27001_011E', 'B27001_012E', 'B27001_013E', 'B27001_014E', 'B27001_015E', 'B27001_016E', \n",
    "'B27001_017E', 'B27001_018E', 'B27001_019E', 'B27001_020E', 'B27001_021E', 'B27001_022E', 'B27001_023E', 'B27001_024E', \n",
    "'B27001_025E', 'B27001_026E', 'B27001_027E', 'B27001_028E', 'B27001_029E', 'B27001_030E', 'B27001_031E', 'B27001_032E', \n",
    "'B27001_033E', 'B27001_034E', 'B27001_035E', 'B27001_036E', 'B27001_037E', 'B27001_038E', 'B27001_039E', 'B27001_040E', \n",
    "'B27001_041E', 'B27001_042E', 'B27001_043E', 'B27001_044E', 'B27001_045E', 'B27001_046E', 'B27001_047E', 'B27001_048E', \n",
    "'B27001_049E', 'B27001_050E')\n",
    "field_list2 = ('B27001_051E', 'B27001_052E', 'B27001_053E', 'B27001_054E', 'B27001_055E', 'B27001_056E', \n",
    "'B27001_057E')\n",
    "nc_hic_by_sex_by_age1 = nc_census_to_df(field_list1)\n",
    "nc_hic_by_sex_by_age2 = nc_census_to_df(field_list2)\n",
    "nc_hic_by_sex_by_age = nc_hic_by_sex_by_age1.merge(nc_hic_by_sex_by_age2, on=\"GEOID\")\n",
    "nc_hic_by_sex_by_age.to_csv('./NC_Census_2021/table04.csv')"
   ]
  },
  {
   "cell_type": "code",
   "execution_count": null,
   "id": "717138f2-ed2f-4a92-bc07-bdb11a489f73",
   "metadata": {},
   "outputs": [],
   "source": [
    "field_list = ('B13016_001E', 'B13016_002E', 'B13016_003E', 'B13016_004E', 'B13016_005E', 'B13016_006E', 'B13016_007E', 'B13016_008E', \n",
    "'B13016_009E', 'B13016_010E', 'B13016_011E', 'B13016_012E', 'B13016_013E', 'B13016_014E', 'B13016_015E', 'B13016_016E', \n",
    "'B13016_017E')\n",
    "nc_wgb_by_age = nc_census_to_df(field_list)\n",
    "nc_wgb_by_age.to_csv('./NC_Census_2021/table05.csv')"
   ]
  },
  {
   "cell_type": "code",
   "execution_count": null,
   "id": "434e38d5-b6cb-4a0e-b595-5191b9330ed2",
   "metadata": {},
   "outputs": [],
   "source": [
    "field_list1 = ('B23001_001E', 'B23001_002E', 'B23001_003E', 'B23001_004E', 'B23001_005E', 'B23001_006E', 'B23001_007E', 'B23001_008E', \n",
    "'B23001_009E', 'B23001_010E', 'B23001_011E', 'B23001_012E', 'B23001_013E', 'B23001_014E', 'B23001_015E', 'B23001_016E', \n",
    "'B23001_017E', 'B23001_018E', 'B23001_019E', 'B23001_020E', 'B23001_021E', 'B23001_022E', 'B23001_023E', 'B23001_024E', \n",
    "'B23001_025E', 'B23001_026E', 'B23001_027E', 'B23001_028E', 'B23001_029E', 'B23001_030E', 'B23001_031E', 'B23001_032E', \n",
    "'B23001_033E', 'B23001_034E', 'B23001_035E', 'B23001_036E', 'B23001_037E', 'B23001_038E', 'B23001_039E', 'B23001_040E', \n",
    "'B23001_041E', 'B23001_042E', 'B23001_043E', 'B23001_044E', 'B23001_045E', 'B23001_046E', 'B23001_047E', 'B23001_048E', \n",
    "'B23001_049E', 'B23001_050E')\n",
    "field_list2 = ('B23001_051E', 'B23001_052E', 'B23001_053E', 'B23001_054E', 'B23001_055E', 'B23001_056E', \n",
    "'B23001_057E', 'B23001_058E', 'B23001_059E', 'B23001_060E', 'B23001_061E', 'B23001_062E', 'B23001_063E', 'B23001_064E', \n",
    "'B23001_065E', 'B23001_066E', 'B23001_067E', 'B23001_068E', 'B23001_069E', 'B23001_070E', 'B23001_071E', 'B23001_072E', \n",
    "'B23001_073E', 'B23001_074E', 'B23001_075E', 'B23001_076E', 'B23001_077E', 'B23001_078E', 'B23001_079E', 'B23001_080E', \n",
    "'B23001_081E', 'B23001_082E', 'B23001_083E', 'B23001_084E', 'B23001_085E', 'B23001_086E', 'B23001_087E', 'B23001_088E', \n",
    "'B23001_089E', 'B23001_090E', 'B23001_091E', 'B23001_092E', 'B23001_093E', 'B23001_094E', 'B23001_095E', 'B23001_096E', \n",
    "'B23001_097E', 'B23001_098E', 'B23001_099E', 'B23001_100E')\n",
    "field_list3 = ('B23001_101E', 'B23001_102E', 'B23001_103E', 'B23001_104E', \n",
    "'B23001_105E', 'B23001_106E', 'B23001_107E', 'B23001_108E', 'B23001_109E', 'B23001_110E', 'B23001_111E', 'B23001_112E', \n",
    "'B23001_113E', 'B23001_114E', 'B23001_115E', 'B23001_116E', 'B23001_117E', 'B23001_118E', 'B23001_119E', 'B23001_120E', \n",
    "'B23001_121E', 'B23001_122E', 'B23001_123E', 'B23001_124E', 'B23001_125E', 'B23001_126E', 'B23001_127E', 'B23001_128E', \n",
    "'B23001_129E', 'B23001_130E', 'B23001_131E', 'B23001_132E', 'B23001_133E', 'B23001_134E', 'B23001_135E', 'B23001_136E', \n",
    "'B23001_137E', 'B23001_138E', 'B23001_139E', 'B23001_140E', 'B23001_141E', 'B23001_142E', 'B23001_143E', 'B23001_144E', \n",
    "'B23001_145E', 'B23001_146E', 'B23001_147E', 'B23001_148E', 'B23001_149E', 'B23001_150E', )\n",
    "field_list4 = ('B23001_151E', 'B23001_152E', \n",
    "'B23001_153E', 'B23001_154E', 'B23001_155E', 'B23001_156E', 'B23001_157E', 'B23001_158E', 'B23001_159E', 'B23001_160E', \n",
    "'B23001_161E', 'B23001_162E', 'B23001_163E', 'B23001_164E', 'B23001_165E', 'B23001_166E', 'B23001_167E', 'B23001_168E', \n",
    "'B23001_169E', 'B23001_170E', 'B23001_171E', 'B23001_172E', 'B23001_173E')\n",
    "nc_sex_by_age_es1 = nc_census_to_df(field_list1)\n",
    "nc_sex_by_age_es2 = nc_census_to_df(field_list2)\n",
    "nc_sex_by_age_es3 = nc_census_to_df(field_list3)\n",
    "nc_sex_by_age_es4 = nc_census_to_df(field_list4)\n",
    "nc_sex_by_age_es = nc_sex_by_age_es1.merge(nc_sex_by_age_es2, on=\"GEOID\")\n",
    "nc_sex_by_age_es = nc_sex_by_age_es.merge(nc_sex_by_age_es3, on=\"GEOID\")\n",
    "nc_sex_by_age_es = nc_sex_by_age_es.merge(nc_sex_by_age_es4, on=\"GEOID\")\n",
    "nc_sex_by_age_es.to_csv('./NC_Census_2021/table06.csv')"
   ]
  },
  {
   "cell_type": "code",
   "execution_count": null,
   "id": "0e1b8ba6-019f-419b-986e-8a690181f7e9",
   "metadata": {},
   "outputs": [],
   "source": [
    "field_list = ('B20001_001E', 'B20001_002E', 'B20001_003E', 'B20001_004E', 'B20001_005E', 'B20001_006E', 'B20001_007E', 'B20001_008E', \n",
    "'B20001_009E', 'B20001_010E', 'B20001_011E', 'B20001_012E', 'B20001_013E', 'B20001_014E', 'B20001_015E', 'B20001_016E', \n",
    "'B20001_017E', 'B20001_018E', 'B20001_019E', 'B20001_020E', 'B20001_021E', 'B20001_022E', 'B20001_023E', 'B20001_024E', \n",
    "'B20001_025E', 'B20001_026E', 'B20001_027E', 'B20001_028E', 'B20001_029E', 'B20001_030E', 'B20001_031E', 'B20001_032E', \n",
    "'B20001_033E', 'B20001_034E', 'B20001_035E', 'B20001_036E', 'B20001_037E', 'B20001_038E', 'B20001_039E', 'B20001_040E', \n",
    "'B20001_041E', 'B20001_042E', 'B20001_043E')\n",
    "nc_sex_by_earnings = nc_census_to_df(field_list)\n",
    "nc_sex_by_earnings.to_csv('./NC_Census_2021/table07.csv');"
   ]
  },
  {
   "cell_type": "code",
   "execution_count": null,
   "id": "6bbde477-475d-4cd2-a78c-9ab1168130c1",
   "metadata": {},
   "outputs": [],
   "source": [
    "field_list1 = ('B17001_001E', 'B17001_002E', 'B17001_003E', 'B17001_004E', 'B17001_005E', 'B17001_006E', 'B17001_007E', 'B17001_008E', \n",
    "'B17001_009E', 'B17001_010E', 'B17001_011E', 'B17001_012E', 'B17001_013E', 'B17001_014E', 'B17001_015E', 'B17001_016E', \n",
    "'B17001_017E', 'B17001_018E', 'B17001_019E', 'B17001_020E', 'B17001_021E', 'B17001_022E', 'B17001_023E', 'B17001_024E', \n",
    "'B17001_025E', 'B17001_026E', 'B17001_027E', 'B17001_028E', 'B17001_029E', 'B17001_030E', 'B17001_031E', 'B17001_032E', \n",
    "'B17001_033E', 'B17001_034E', 'B17001_035E', 'B17001_036E', 'B17001_037E', 'B17001_038E', 'B17001_039E', 'B17001_040E', \n",
    "'B17001_041E', 'B17001_042E', 'B17001_043E', 'B17001_044E', 'B17001_045E', 'B17001_046E', 'B17001_047E', 'B17001_048E', \n",
    "'B17001_049E', 'B17001_050E')\n",
    "field_list2 = ('B17001_051E', 'B17001_052E', 'B17001_053E', 'B17001_054E', 'B17001_055E', 'B17001_056E', \n",
    "'B17001_057E', 'B17001_058E', 'B17001_059E')\n",
    "nc_pvty_by_sex_by_age1 = nc_census_to_df(field_list1)\n",
    "nc_pvty_by_sex_by_age2 = nc_census_to_df(field_list2)\n",
    "nc_pvty_by_sex_by_age = nc_pvty_by_sex_by_age1.merge(nc_pvty_by_sex_by_age2, on=\"GEOID\")\n",
    "nc_pvty_by_sex_by_age.to_csv('./NC_Census_2021/table08.csv')"
   ]
  },
  {
   "cell_type": "code",
   "execution_count": null,
   "id": "51fc0ab6-7502-491c-bd38-1985eb55cbd9",
   "metadata": {},
   "outputs": [],
   "source": [
    "field_list = ('B08012_001E', 'B08012_002E', 'B08012_003E', 'B08012_004E', 'B08012_005E', 'B08012_006E', 'B08012_007E', 'B08012_008E', \n",
    "'B08012_009E', 'B08012_010E', 'B08012_011E', 'B08012_012E', 'B08012_013E', 'B08012_014E', 'B08012_015E', 'B08012_016E', \n",
    "'B08012_017E', 'B08012_018E', 'B08012_019E', 'B08012_020E', 'B08012_021E', 'B08012_022E', 'B08012_023E', 'B08012_024E', \n",
    "'B08012_025E', 'B08012_026E', 'B08012_027E', 'B08012_028E', 'B08012_029E', 'B08012_030E', 'B08012_031E', 'B08012_032E', \n",
    "'B08012_033E', 'B08012_034E', 'B08012_035E', 'B08012_036E', 'B08012_037E', 'B08012_038E', 'B08012_039E')\n",
    "nc_sex_by_tt = nc_census_to_df(field_list)\n",
    "nc_sex_by_tt.to_csv('./NC_Census_2021/table09.csv')"
   ]
  },
  {
   "cell_type": "code",
   "execution_count": null,
   "id": "02ecc370-2cff-4b7f-af30-12a04475ced1",
   "metadata": {},
   "outputs": [],
   "source": [
    "field_list1 = ('B08101_001E', 'B08101_002E', 'B08101_003E', 'B08101_004E', 'B08101_005E', 'B08101_006E', 'B08101_007E', 'B08101_008E', \n",
    "'B08101_009E', 'B08101_010E', 'B08101_011E', 'B08101_012E', 'B08101_013E', 'B08101_014E', 'B08101_015E', 'B08101_016E', \n",
    "'B08101_017E', 'B08101_018E', 'B08101_019E', 'B08101_020E', 'B08101_021E', 'B08101_022E', 'B08101_023E', 'B08101_024E', \n",
    "'B08101_025E', 'B08101_026E', 'B08101_027E', 'B08101_028E', 'B08101_029E', 'B08101_030E', 'B08101_031E', 'B08101_032E', \n",
    "'B08101_033E', 'B08101_034E', 'B08101_035E', 'B08101_036E', 'B08101_037E', 'B08101_038E', 'B08101_039E', 'B08101_040E', \n",
    "'B08101_041E', 'B08101_042E', 'B08101_043E', 'B08101_044E', 'B08101_045E', 'B08101_046E', 'B08101_047E', 'B08101_048E', \n",
    "'B08101_049E', 'B08101_050E')\n",
    "field_list2 = ('B08101_051E', 'B08101_052E', 'B08101_053E', 'B08101_054E', 'B08101_055E', 'B08101_056E')\n",
    "nc_mt_by_age1 = nc_census_to_df(field_list1)\n",
    "nc_mt_by_age2 = nc_census_to_df(field_list2)\n",
    "nc_mt_by_age = nc_mt_by_age1.merge(nc_mt_by_age2, on=\"GEOID\")\n",
    "nc_mt_by_age.to_csv('./NC_Census_2021/table10.csv')"
   ]
  },
  {
   "cell_type": "code",
   "execution_count": null,
   "id": "8f3ccb05-7058-4daa-95db-de8d89633ae8",
   "metadata": {},
   "outputs": [],
   "source": [
    "field_list = ('B23022_001E', 'B23022_002E', 'B23022_003E', 'B23022_004E', 'B23022_005E', 'B23022_006E', 'B23022_007E', 'B23022_008E', \n",
    "'B23022_009E', 'B23022_010E', 'B23022_011E', 'B23022_012E', 'B23022_013E', 'B23022_014E', 'B23022_015E', 'B23022_016E', \n",
    "'B23022_017E', 'B23022_018E', 'B23022_019E', 'B23022_020E', 'B23022_021E', 'B23022_022E', 'B23022_023E', 'B23022_024E', \n",
    "'B23022_025E', 'B23022_026E', 'B23022_027E', 'B23022_028E', 'B23022_029E', 'B23022_030E', 'B23022_031E', 'B23022_032E', \n",
    "'B23022_033E', 'B23022_034E', 'B23022_035E', 'B23022_036E', 'B23022_037E', 'B23022_038E', 'B23022_039E', 'B23022_040E', \n",
    "'B23022_041E', 'B23022_042E', 'B23022_043E', 'B23022_044E', 'B23022_045E', 'B23022_046E', 'B23022_047E', 'B23022_048E', 'B23022_049E')\n",
    "nc_sex_by_work_by_uhw = nc_census_to_df(field_list)\n",
    "nc_sex_by_work_by_uhw.to_csv('./NC_Census_2021/table11.csv')"
   ]
  },
  {
   "cell_type": "code",
   "execution_count": null,
   "id": "81dc8794-3a7c-4e3d-94e3-b410b281c001",
   "metadata": {},
   "outputs": [],
   "source": [
    "# Get Latitude and Longitude data for Census tracts\n",
    "nc_tract = gpd.read_file(\"https://www2.census.gov/geo/tiger/TIGER2021/TRACT/tl_2021_37_tract.zip\")\n",
    "nc_tract = nc_tract.to_crs(epsg = 4326)\n",
    "\n",
    "nc_tract = nc_tract.set_index('GEOID')\n",
    "nc_tract = nc_tract.sort_values(by=['GEOID'])\n",
    "nc_tract = nc_tract.drop(columns = ['STATEFP', 'COUNTYFP', 'TRACTCE', 'NAME', 'NAMELSAD', 'MTFCC', 'FUNCSTAT', 'ALAND', 'AWATER'])\n",
    "nc_tract = nc_tract.rename(columns = {'INTPTLAT':'Latitude', 'INTPTLON':'Longitude'})\n",
    "nc_tract.to_csv('./NC_Census_2021/spatial_with_geometry.csv')\n",
    "nc_tract = nc_tract.drop(columns = ['geometry'])\n",
    "nc_tract.to_csv(\"./NC_Census_2021/spatial.csv\")"
   ]
  },
  {
   "cell_type": "code",
   "execution_count": null,
   "id": "bcc0972a-e14c-43f3-bbc4-b4be6ab7e5b9",
   "metadata": {},
   "outputs": [],
   "source": []
  }
 ],
 "metadata": {
  "kernelspec": {
   "display_name": "Python 3 (ipykernel)",
   "language": "python",
   "name": "python3"
  },
  "language_info": {
   "codemirror_mode": {
    "name": "ipython",
    "version": 3
   },
   "file_extension": ".py",
   "mimetype": "text/x-python",
   "name": "python",
   "nbconvert_exporter": "python",
   "pygments_lexer": "ipython3",
   "version": "3.10.12"
  }
 },
 "nbformat": 4,
 "nbformat_minor": 5
}
