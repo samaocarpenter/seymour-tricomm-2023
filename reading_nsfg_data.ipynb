{
 "cells": [
  {
   "cell_type": "code",
   "execution_count": 24,
   "metadata": {},
   "outputs": [
    {
     "name": "stdout",
     "output_type": "stream",
     "text": [
      "0       213.486\n",
      "1       251.898\n",
      "2       121.061\n",
      "3       158.936\n",
      "4       330.004\n",
      "         ...   \n",
      "2667    187.207\n",
      "2668     90.056\n",
      "2669    148.634\n",
      "2670    143.469\n",
      "2671    170.111\n",
      "Name: ec_risk, Length: 2672, dtype: float64\n",
      "525300.8609999998\n"
     ]
    }
   ],
   "source": [
    "import pandas as pd\n",
    "\n",
    "# reads in census data\n",
    "csv_file_path = \"NC_Census_2021/table01.csv\"\n",
    "df = pd.read_csv(csv_file_path)\n",
    "\n",
    "# column names for age brackets of women\n",
    "women_15_19_idxs = [\"B01001_030E\", \"B01001_031E\"]\n",
    "women_20_24_idxs = [\"B01001_032E\", \"B01001_033E\", \"B01001_034E\"]\n",
    "women_25_29_idxs = [\"B01001_035E\"]\n",
    "women_30_49_idxs = [\"B01001_036E\", \"B01001_037E\", \"B01001_038E\", \"B01001_039E\"]\n",
    "\n",
    "# ratios of women who report ever using emergency contraceptives (EC)\n",
    "ec_px_15_19 = 0.205\n",
    "ec_px_20_24 = 0.350\n",
    "ec_px_25_29 = 0.358\n",
    "ec_px_30_49 = 0.157\n",
    "\n",
    "# holds the results\n",
    "df.insert(0, \"ec_risk\", 0)\n",
    "\n",
    "# adds up number of women per age group multiplied by ratio of EC usage\n",
    "for columns, ratio in zip(\n",
    "    [women_15_19_idxs, women_20_24_idxs, women_25_29_idxs, women_30_49_idxs], \n",
    "    [ec_px_15_19, ec_px_20_24, ec_px_25_29, ec_px_30_49]):\n",
    "        df[\"ec_risk\"] += df[columns].sum(axis=1) * ratio\n",
    "\n",
    "# EC risk by county, and total number vulnerable\n",
    "print(df[\"ec_risk\"])\n",
    "print(sum(df[\"ec_risk\"]))"
   ]
  },
  {
   "cell_type": "code",
   "execution_count": null,
   "metadata": {},
   "outputs": [],
   "source": []
  }
 ],
 "metadata": {
  "kernelspec": {
   "display_name": "Python 3",
   "language": "python",
   "name": "python3"
  },
  "language_info": {
   "codemirror_mode": {
    "name": "ipython",
    "version": 3
   },
   "file_extension": ".py",
   "mimetype": "text/x-python",
   "name": "python",
   "nbconvert_exporter": "python",
   "pygments_lexer": "ipython3",
   "version": "3.7.9"
  }
 },
 "nbformat": 4,
 "nbformat_minor": 4
}
